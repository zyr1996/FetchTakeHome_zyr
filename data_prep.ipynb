{
 "cells": [
  {
   "cell_type": "code",
   "execution_count": 2,
   "id": "9fd73c3f-0ae9-4fca-b094-c3307443b222",
   "metadata": {},
   "outputs": [],
   "source": [
    "import pandas as pd\n"
   ]
  },
  {
   "cell_type": "code",
   "execution_count": 3,
   "id": "8c72a86c-158d-4220-b23e-776d3a569d75",
   "metadata": {},
   "outputs": [],
   "source": [
    "# Load the data\n",
    "users = pd.read_csv(r'C:\\Users\\Public\\Fetch Take home challenge\\USER_TAKEHOME.csv')\n",
    "transactions = pd.read_csv(r'C:\\Users\\Public\\Fetch Take home challenge\\TRANSACTION_TAKEHOME.csv')\n",
    "products = pd.read_csv(r'C:\\Users\\Public\\Fetch Take home challenge\\PRODUCTS_TAKEHOME.csv')"
   ]
  },
  {
   "cell_type": "code",
   "execution_count": 4,
   "id": "6e7fc869-9ce2-4f97-9506-420a64b407e8",
   "metadata": {},
   "outputs": [
    {
     "name": "stdout",
     "output_type": "stream",
     "text": [
      "ID                  0\n",
      "CREATED_DATE        0\n",
      "BIRTH_DATE       3675\n",
      "STATE            4812\n",
      "LANGUAGE        30508\n",
      "GENDER           5892\n",
      "dtype: int64\n",
      "RECEIPT_ID           0\n",
      "PURCHASE_DATE        0\n",
      "SCAN_DATE            0\n",
      "STORE_NAME           0\n",
      "USER_ID              0\n",
      "BARCODE           5762\n",
      "FINAL_QUANTITY       0\n",
      "FINAL_SALE           0\n",
      "dtype: int64\n",
      "CATEGORY_1         111\n",
      "CATEGORY_2        1424\n",
      "CATEGORY_3       60566\n",
      "CATEGORY_4      778093\n",
      "MANUFACTURER    226474\n",
      "BRAND           226472\n",
      "BARCODE           4025\n",
      "dtype: int64\n"
     ]
    }
   ],
   "source": [
    "# Check for missing values\n",
    "print(users.isnull().sum())\n",
    "print(transactions.isnull().sum())\n",
    "print(products.isnull().sum())\n"
   ]
  },
  {
   "cell_type": "code",
   "execution_count": 5,
   "id": "ab4199d2-98ee-4f77-9187-33a7087c8995",
   "metadata": {},
   "outputs": [
    {
     "name": "stdout",
     "output_type": "stream",
     "text": [
      "0\n",
      "171\n",
      "215\n"
     ]
    }
   ],
   "source": [
    "# Check for duplicates\n",
    "print(users.duplicated().sum())\n",
    "print(transactions.duplicated().sum())\n",
    "print(products.duplicated().sum())"
   ]
  },
  {
   "cell_type": "code",
   "execution_count": 9,
   "id": "0fe85084-aa56-4e84-9c19-00290abc6b96",
   "metadata": {},
   "outputs": [
    {
     "name": "stdout",
     "output_type": "stream",
     "text": [
      "                                 RECEIPT_ID PURCHASE_DATE  \\\n",
      "2724   1c12bd8a-c68c-41ee-a26d-294021d3e0b8    2024-09-07   \n",
      "4192   2acd7e8d-37df-4e51-8ee5-9a9c8c1d9711    2024-09-08   \n",
      "6572   431fe612-ed55-470e-939c-043ad31f33f3    2024-09-07   \n",
      "6623   43955b35-6fbc-4909-a4de-1a0de0dc387f    2024-09-06   \n",
      "7675   4ec870d2-c39f-4a40-bf8a-26a079409b20    2024-09-08   \n",
      "...                                     ...           ...   \n",
      "49651  93f45c94-af38-42d4-a3fe-eb9d5b24efbb    2024-09-03   \n",
      "49660  eee21773-6946-474a-9978-fe0659140973    2024-07-26   \n",
      "49759  01a70fe0-026f-4bea-9da4-7d13bbf21e9a    2024-09-02   \n",
      "49911  874a8116-3342-4b4a-9d24-4666e0ab1052    2024-08-31   \n",
      "49941  e0a60958-e8ef-4fa0-8b1a-5ad01dd64403    2024-07-27   \n",
      "\n",
      "                       SCAN_DATE            STORE_NAME  \\\n",
      "2724   2024-09-07 15:44:35.241 Z                   CVS   \n",
      "4192   2024-09-08 11:13:01.935 Z               WALMART   \n",
      "6572   2024-09-07 16:39:01.409 Z  DOLLAR GENERAL STORE   \n",
      "6623   2024-09-08 18:32:30.031 Z               WALMART   \n",
      "7675   2024-09-08 19:39:01.589 Z               WALMART   \n",
      "...                          ...                   ...   \n",
      "49651  2024-09-08 12:20:50.611 Z                PUBLIX   \n",
      "49660  2024-07-29 20:40:25.073 Z                PUBLIX   \n",
      "49759  2024-09-07 16:02:39.835 Z               WALMART   \n",
      "49911  2024-08-31 22:41:03.829 Z                   CVS   \n",
      "49941  2024-07-30 09:19:00.955 Z                  ALDI   \n",
      "\n",
      "                        USER_ID       BARCODE FINAL_QUANTITY FINAL_SALE  \n",
      "2724   65af09757050d0a6206ab136           NaN           1.00             \n",
      "4192   663140f9b7b24d45d938f3be  2.400005e+10           1.00             \n",
      "6572   5e038cebcb322c11de193bb7  1.200050e+10           1.00             \n",
      "6623   625364ddda4fb11c8a9fcb85  3.716877e+11           zero      12.97  \n",
      "7675   638e9ae602a4e512e0585b59  7.239202e+10           zero       1.48  \n",
      "...                         ...           ...            ...        ...  \n",
      "49651  660a0ce6828f877fdee915a1           NaN           1.00       4.40  \n",
      "49660  60cff0e7e265b446d62200b2  4.178027e+10           1.00       4.79  \n",
      "49759  614e733372ba844aa8dc345e  4.178900e+10           1.00       0.52  \n",
      "49911  63a4ef6bb5f32149b9d86e66           NaN           1.00       3.00  \n",
      "49941  5d6072320d1bff58a8686adc           NaN           1.00       0.99  \n",
      "\n",
      "[171 rows x 8 columns]\n",
      "               CATEGORY_1    CATEGORY_2        CATEGORY_3 CATEGORY_4  \\\n",
      "76394              Snacks         Candy               Gum        NaN   \n",
      "87568              Snacks         Chips            Crisps        NaN   \n",
      "91710   Health & Wellness     Skin Care               NaN        NaN   \n",
      "100470             Snacks         Candy  Confection Candy        NaN   \n",
      "109639         Restaurant     Beverages              Soda  Diet Soda   \n",
      "...                   ...           ...               ...        ...   \n",
      "827242             Snacks         Candy   Chocolate Candy        NaN   \n",
      "833620             Snacks         Candy   Chocolate Candy        NaN   \n",
      "834874             Snacks  Nuts & Seeds           Peanuts        NaN   \n",
      "838643             Snacks         Candy   Chocolate Candy        NaN   \n",
      "843215             Snacks         Candy   Chocolate Candy        NaN   \n",
      "\n",
      "               MANUFACTURER         BRAND     BARCODE  \n",
      "76394   THE HERSHEY COMPANY  ICE BREAKERS   3498507.0  \n",
      "87568          TRADER JOE'S  TRADER JOE'S    952811.0  \n",
      "91710      BEIERSDORF, INC.    COPPERTONE         NaN  \n",
      "100470         LIDL US, LLC          LIDL  20744731.0  \n",
      "109639              PEPSICO         PEPSI         NaN  \n",
      "...                     ...           ...         ...  \n",
      "827242  THE HERSHEY COMPANY     HERSHEY'S   3423905.0  \n",
      "833620  THE HERSHEY COMPANY     HERSHEY'S         NaN  \n",
      "834874                  NaN           NaN   3415207.0  \n",
      "838643  THE HERSHEY COMPANY       REESE'S   3473108.0  \n",
      "843215  THE HERSHEY COMPANY     HERSHEY'S   3424001.0  \n",
      "\n",
      "[215 rows x 7 columns]\n"
     ]
    }
   ],
   "source": [
    "print(transactions[transactions.duplicated()])\n",
    "print(products[products.duplicated()])"
   ]
  },
  {
   "cell_type": "code",
   "execution_count": 8,
   "id": "86504549-80f4-4dbd-903f-05eb0d498ef9",
   "metadata": {},
   "outputs": [
    {
     "name": "stdout",
     "output_type": "stream",
     "text": [
      "                              ID               CREATED_DATE  \\\n",
      "count                     100000                     100000   \n",
      "unique                    100000                      99942   \n",
      "top     624791449082231a3d7c56de  2023-04-06 22:59:46.000 Z   \n",
      "freq                           1                          2   \n",
      "\n",
      "                       BIRTH_DATE  STATE LANGUAGE  GENDER  \n",
      "count                       96325  95188    69492   94108  \n",
      "unique                      54721     52        2      11  \n",
      "top     1970-01-01 00:00:00.000 Z     TX       en  female  \n",
      "freq                         1272   9028    63403   64240  \n"
     ]
    }
   ],
   "source": [
    "# Basic statistics\n",
    "print(users.describe())"
   ]
  },
  {
   "cell_type": "code",
   "execution_count": 9,
   "id": "3107baf1-a0f5-42e2-8351-049f2c5ce809",
   "metadata": {},
   "outputs": [
    {
     "name": "stdout",
     "output_type": "stream",
     "text": [
      "            BARCODE\n",
      "count  4.423800e+04\n",
      "mean   1.715863e+11\n",
      "std    3.269219e+11\n",
      "min   -1.000000e+00\n",
      "25%    3.077212e+10\n",
      "50%    5.210004e+10\n",
      "75%    8.536765e+10\n",
      "max    9.347108e+12\n",
      "            BARCODE\n",
      "count  8.415270e+05\n",
      "mean   6.016109e+11\n",
      "std    1.022530e+12\n",
      "min    1.850000e+02\n",
      "25%    7.124923e+10\n",
      "50%    6.344185e+11\n",
      "75%    7.683955e+11\n",
      "max    6.291108e+13\n"
     ]
    }
   ],
   "source": [
    "print(transactions.describe())\n",
    "print(products.describe())"
   ]
  },
  {
   "cell_type": "code",
   "execution_count": 10,
   "id": "f6fede48-b1c7-4988-a316-4508c589bd31",
   "metadata": {},
   "outputs": [],
   "source": [
    "#Remove duplicates for Product table\n",
    "products_unique = products.drop_duplicates()"
   ]
  },
  {
   "cell_type": "code",
   "execution_count": null,
   "id": "61f64b18-d93b-46ac-ace7-1a873e1dd361",
   "metadata": {},
   "outputs": [],
   "source": [
    "#output to csv\n",
    "products_unique.to_csv('products_unique.csv',index = False,encoding = 'utf-8')"
   ]
  }
 ],
 "metadata": {
  "kernelspec": {
   "display_name": "Python 3 (ipykernel)",
   "language": "python",
   "name": "python3"
  },
  "language_info": {
   "codemirror_mode": {
    "name": "ipython",
    "version": 3
   },
   "file_extension": ".py",
   "mimetype": "text/x-python",
   "name": "python",
   "nbconvert_exporter": "python",
   "pygments_lexer": "ipython3",
   "version": "3.13.2"
  }
 },
 "nbformat": 4,
 "nbformat_minor": 5
}
